{
 "cells": [
  {
   "cell_type": "code",
   "execution_count": 1,
   "id": "788b4de5-79be-49e6-9258-921abe045152",
   "metadata": {},
   "outputs": [
    {
     "name": "stderr",
     "output_type": "stream",
     "text": [
      "/cosma/home/do012/dc-yama3/miniforge3/envs/env_dev/lib/python3.8/site-packages/scipy/__init__.py:146: UserWarning: A NumPy version >=1.16.5 and <1.23.0 is required for this version of SciPy (detected version 1.24.4\n",
      "  warnings.warn(f\"A NumPy version >={np_minversion} and <{np_maxversion}\"\n"
     ]
    }
   ],
   "source": [
    "import numpy as np\n",
    "import h5py as h5\n",
    "import fitsio as fio\n",
    "import swiftsimio as sw\n",
    "import matplotlib\n",
    "from matplotlib import pyplot as plt\n",
    "import proplot as pplt\n",
    "%matplotlib inline"
   ]
  },
  {
   "cell_type": "code",
   "execution_count": 2,
   "id": "d0a8a021-c6af-4b13-b663-7ac0098f8f86",
   "metadata": {},
   "outputs": [],
   "source": [
    "root = \"/cosma8/data/do012/dc-yama3/\""
   ]
  },
  {
   "cell_type": "markdown",
   "id": "c030cb21-18cd-4d57-99ca-a90eb080d2ba",
   "metadata": {},
   "source": [
    "# Check overdensity and velocity field computed by CIC. "
   ]
  },
  {
   "cell_type": "code",
   "execution_count": null,
   "id": "94c84a17-d6ac-4b2e-8244-47c911e4f84b",
   "metadata": {},
   "outputs": [
    {
     "name": "stdout",
     "output_type": "stream",
     "text": [
      "(64, 512, 512, 512)\n"
     ]
    }
   ],
   "source": [
    "d_deltam = fio.read(root+'tmp/overdensity_3d_snapshot_0000.fits')\n",
    "print(d_deltam.shape)\n",
    "\n",
    "data0000 = sw.load('/cosma8/data/dp004/flamingo/Runs/L1000N1800/HYDRO_FIDUCIAL/snapshots/flamingo_0000/flamingo_0000.hdf5')\n",
    "# npart = 1800**3\n",
    "# idx = np.random.choice(np.arange(npart), size=1000000, replace=False)\n",
    "x_sample = data0000.gas.coordinates[:,0]#[idx]\n",
    "y_sample = data0000.gas.coordinates[:,1]#[idx]\n",
    "z_sample = data0000.gas.coordinates[:,2]#[idx]"
   ]
  },
  {
   "cell_type": "code",
   "execution_count": null,
   "id": "696e2ab0-ec36-4906-8500-94349cde4fd2",
   "metadata": {},
   "outputs": [],
   "source": [
    "grid_size = 512\n",
    "box_size = 1000.0\n",
    "grid_pos = np.linspace(0, box_size, grid_size)\n",
    "\n",
    "mean_deltam = np.mean(d_deltam, axis=0)\n",
    "threshold = 0.5  # Example value; adjust based on your data\n",
    "# Find the indices where the overdensity exceeds the threshold\n",
    "x, y, z = np.where(mean_deltam > threshold)"
   ]
  },
  {
   "cell_type": "code",
   "execution_count": null,
   "id": "38ba3c3f-67cc-4885-9d26-66cd47dbcaea",
   "metadata": {},
   "outputs": [],
   "source": [
    "fig = plt.figure(figsize=(15,7))\n",
    "\n",
    "ax0 = fig.add_subplot(121, projection='3d')\n",
    "ax0.scatter(x_sample, y_sample, z_sample, s=0.001, c='blue', label='gas particles')\n",
    "\n",
    "ax1 = fig.add_subplot(122, projection='3d')\n",
    "ax1.scatter(x, y, z, s=0.001, c='blue', label='matter overdensity')"
   ]
  },
  {
   "cell_type": "code",
   "execution_count": null,
   "id": "971faf44-f97b-43bf-985e-7c004e4a9829",
   "metadata": {},
   "outputs": [],
   "source": [
    "fig,ax = pplt.subplots(nrows=1, ncols=2, figsize=(12,5), sharex=False, sharey=False)\n",
    "ax[0].scatter(x_sample, y_sample, s=0.0000001, label='gas particles')\n",
    "ax[0].set_xlabel('x')\n",
    "ax[0].set_ylabel('y')\n",
    "\n",
    "ax[1].scatter(x, y, s=0.001, label='matter overdensity')\n",
    "ax[1].set_xlabel('x')\n",
    "ax[1].set_ylabel('y')"
   ]
  },
  {
   "cell_type": "code",
   "execution_count": null,
   "id": "241aa4d2-e886-4c21-b451-1c209ba2074e",
   "metadata": {},
   "outputs": [],
   "source": []
  }
 ],
 "metadata": {
  "kernelspec": {
   "display_name": "env_dev",
   "language": "python",
   "name": "env_dev"
  },
  "language_info": {
   "codemirror_mode": {
    "name": "ipython",
    "version": 3
   },
   "file_extension": ".py",
   "mimetype": "text/x-python",
   "name": "python",
   "nbconvert_exporter": "python",
   "pygments_lexer": "ipython3",
   "version": "3.8.13"
  }
 },
 "nbformat": 4,
 "nbformat_minor": 5
}
